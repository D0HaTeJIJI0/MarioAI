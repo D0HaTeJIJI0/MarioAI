{
 "cells": [
  {
   "cell_type": "code",
   "execution_count": null,
   "metadata": {},
   "outputs": [],
   "source": [
    "import socket\n",
    "import numpy as np\n",
    "\n",
    "sock = socket.socket()\n",
    "sock.bind(('', 8080))\n",
    "# sock.listen(1)\n",
    "# conn, addr = sock.accept()\n",
    "# while True:\n",
    "#     data = conn.recv(1000).decode()\n",
    "#     if not data:\n",
    "#         break\n",
    "#     data = data.strip()\n",
    "#     data = [float(x) for x in data.split(' ')]\n",
    "#     inputs = np.asarray(data)\n",
    "#     print(inputs)\n",
    "socket.close()"
   ]
  },
  {
   "cell_type": "code",
   "execution_count": null,
   "metadata": {},
   "outputs": [],
   "source": []
  }
 ],
 "metadata": {
  "kernelspec": {
   "display_name": "Python 3",
   "language": "python",
   "name": "python3"
  },
  "language_info": {
   "codemirror_mode": {
    "name": "ipython",
    "version": 3
   },
   "file_extension": ".py",
   "mimetype": "text/x-python",
   "name": "python",
   "nbconvert_exporter": "python",
   "pygments_lexer": "ipython3",
   "version": "3.7.1"
  }
 },
 "nbformat": 4,
 "nbformat_minor": 2
}
